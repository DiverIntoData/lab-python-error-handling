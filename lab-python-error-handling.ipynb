{
 "cells": [
  {
   "cell_type": "markdown",
   "id": "25d7736c-ba17-4aff-b6bb-66eba20fbf4e",
   "metadata": {},
   "source": [
    "# Lab | Error Handling"
   ]
  },
  {
   "cell_type": "markdown",
   "id": "bc99b386-7508-47a0-bcdb-d969deaf6c8b",
   "metadata": {},
   "source": [
    "## Exercise: Error Handling for Managing Customer Orders\n",
    "\n",
    "The implementation of your code for managing customer orders assumes that the user will always enter a valid input. \n",
    "\n",
    "For example, we could modify the `initialize_inventory` function to include error handling.\n",
    "   - If the user enters an invalid quantity (e.g., a negative value or a non-numeric value), display an error message and ask them to re-enter the quantity for that product.\n",
    "   - Use a try-except block to handle the error and continue prompting the user until a valid quantity is entered.\n",
    "\n",
    "```python\n",
    "# Step 1: Define the function for initializing the inventory with error handling\n",
    "def initialize_inventory(products):\n",
    "    inventory = {}\n",
    "    for product in products:\n",
    "        valid_quantity = False\n",
    "        while not valid_quantity:\n",
    "            try:\n",
    "                quantity = int(input(f\"Enter the quantity of {product}s available: \"))\n",
    "                if quantity < 0:\n",
    "                    raise ValueError(\"Invalid quantity! Please enter a non-negative value.\")\n",
    "                valid_quantity = True\n",
    "            except ValueError as error:\n",
    "                print(f\"Error: {error}\")\n",
    "        inventory[product] = quantity\n",
    "    return inventory\n",
    "\n",
    "# Or, in another way:\n",
    "\n",
    "def initialize_inventory(products):\n",
    "    inventory = {}\n",
    "    for product in products:\n",
    "        valid_input = False\n",
    "        while not valid_input:\n",
    "            try:\n",
    "                quantity = int(input(f\"Enter the quantity of {product}s available: \"))\n",
    "                if quantity >= 0:\n",
    "                    inventory[product] = quantity\n",
    "                    valid_input = True\n",
    "                else:\n",
    "                    print(\"Quantity cannot be negative. Please enter a valid quantity.\")\n",
    "            except ValueError:\n",
    "                print(\"Invalid input. Please enter a valid quantity.\")\n",
    "    return inventory\n",
    "```\n",
    "\n",
    "Let's enhance your code by implementing error handling to handle invalid inputs.\n",
    "\n",
    "Follow the steps below to complete the exercise:\n"
   ]
  },
  {
   "cell_type": "markdown",
   "id": "18de924e",
   "metadata": {},
   "source": [
    "2. Modify the `calculate_total_price` function to include error handling.\n",
    "   - If the user enters an invalid price (e.g., a negative value or a non-numeric value), display an error message and ask them to re-enter the price for that product.\n",
    "   - Use a try-except block to handle the error and continue prompting the user until a valid price is entered."
   ]
  },
  {
   "cell_type": "code",
   "execution_count": 7,
   "id": "1d80965f",
   "metadata": {},
   "outputs": [],
   "source": [
    "# ORIGINAL\n",
    "customer_orders = {'hat', 'mug'}\n",
    "inventory = {'t-shirt': 2, 'mug': 10, 'hat': 22, 'book': 2, 'keychain': 3}\n",
    "\n",
    "\n",
    "# Create a function that retuns the total price of the order based on price given\n",
    "def order_price(customer_orders):\n",
    "    total_order_price = sum([int(input(f\"What is the price of {i}? \")) for i in customer_orders])\n",
    "    return total_order_price\n",
    "\n",
    "total_order_price = order_price(customer_orders)"
   ]
  },
  {
   "cell_type": "code",
   "execution_count": 8,
   "id": "f10c1068",
   "metadata": {},
   "outputs": [],
   "source": [
    "# Create a function that retuns the total price of the order based on price given\n",
    "def order_price(customer_orders):\n",
    "    total_order_price = 0\n",
    "\n",
    "    for i in customer_orders:\n",
    "         valid_input = False\n",
    "         while valid_input == False:\n",
    "\n",
    "              try:\n",
    "                price_question = int(input(f\"What is the price of {i}? \"))\n",
    "                if price_question > 0:\n",
    "                    total_order_price += price_question\n",
    "                    valid_input = True\n",
    "                elif price_question <= 0:\n",
    "                    print(\"\\nItem price can't be negative or 0\")\n",
    "              except ValueError:\n",
    "                    print(\"Invalid input\")\n",
    "            \n",
    "\n",
    "    return total_order_price\n"
   ]
  },
  {
   "cell_type": "code",
   "execution_count": 11,
   "id": "3e26a3a3",
   "metadata": {},
   "outputs": [
    {
     "data": {
      "text/plain": [
       "33"
      ]
     },
     "execution_count": 11,
     "metadata": {},
     "output_type": "execute_result"
    }
   ],
   "source": [
    "total_order_price = order_price(customer_orders)\n",
    "total_order_price"
   ]
  },
  {
   "cell_type": "markdown",
   "id": "78a7b9ea",
   "metadata": {},
   "source": [
    "3. Modify the `get_customer_orders` function to include error handling.\n",
    "   - If the user enters an invalid number of orders (e.g., a negative value or a non-numeric value), display an error message and ask them to re-enter the number of orders.\n",
    "   - If the user enters an invalid product name (e.g., a product name that is not in the inventory), or that doesn't have stock available, display an error message and ask them to re-enter the product name. *Hint: you will need to pass inventory as a parameter*\n",
    "   - Use a try-except block to handle the error and continue prompting the user until a valid product name is entered."
   ]
  },
  {
   "cell_type": "code",
   "execution_count": 12,
   "id": "e7a3f6ed",
   "metadata": {},
   "outputs": [],
   "source": [
    "inventory = {'t-shirt': 10, 'mug': 10, 'hat': 10, 'book': 10, 'keychain': 10}"
   ]
  },
  {
   "cell_type": "code",
   "execution_count": 61,
   "id": "7e051ea7",
   "metadata": {},
   "outputs": [
    {
     "data": {
      "text/plain": [
       "{'hat', 'mug'}"
      ]
     },
     "execution_count": 61,
     "metadata": {},
     "output_type": "execute_result"
    }
   ],
   "source": [
    "# ORIGINAL\n",
    "# Apply comprehension ot get_customer orders. I had to approach the question in a different way to be able to use comprehension while asking for the inventory\n",
    "def get_customer_orders():\n",
    "    customer_orders = set()  # Create an empty set for the customer orders\n",
    "\n",
    "    # Ask customer how many times they want to order\n",
    "    n_items_order = int(input(\"How many items do you want to order? \"))\n",
    "\n",
    "    # Get item ordered\n",
    "    customer_orders = {input(f\"What item do you want for order {i+1}? Items in inventory are: {[item for item in inventory.keys()]}\") for i in range(0, n_items_order)}\n",
    "        \n",
    "    return customer_orders\n",
    "\n",
    "customer_orders = get_customer_orders()  # Call the function to get customer orders\n",
    "\n",
    "customer_orders"
   ]
  },
  {
   "cell_type": "code",
   "execution_count": 15,
   "id": "78076cc6",
   "metadata": {},
   "outputs": [],
   "source": [
    "def get_customer_orders():\n",
    "    customer_orders = set()  # Create an empty set for the customer orders\n",
    "    valid_n_items_order = False\n",
    "    valid_customer_orders = False\n",
    "\n",
    "\n",
    "    # Ask customer how many times they want to order\n",
    "    while valid_n_items_order == False:\n",
    "        try:\n",
    "            n_items_order = int(input(\"How many items do you want to order? \"))\n",
    "            if n_items_order > 0:\n",
    "                valid_n_items_order = True\n",
    "            elif n_items_order < 0:\n",
    "                print(\"Can't order negative items\")\n",
    "        except ValueError:\n",
    "            print(\"\\nInvalid input. Enter a number.\")\n",
    "\n",
    "    # Get item ordered\n",
    "    for i in range(n_items_order):\n",
    "        while True:\n",
    "            try:\n",
    "                item = input(f\"What item do you want for order {i+1}? Items in inventory are: {[item for item in inventory.keys()]}\")\n",
    "                if item in inventory.keys():\n",
    "                    customer_orders.add(item)\n",
    "                    break  # Item is valid, move to the next item\n",
    "                else:\n",
    "                    print(\"Item not in inventory. Please order something else.\")\n",
    "            except ValueError:\n",
    "                print(\"Invalid input. Please try again.\")\n",
    "\n",
    "    return customer_orders"
   ]
  },
  {
   "cell_type": "code",
   "execution_count": 16,
   "id": "95c55cdc",
   "metadata": {},
   "outputs": [
    {
     "name": "stdout",
     "output_type": "stream",
     "text": [
      "Item not in inventory. Please order something else.\n",
      "Item not in inventory. Please order something else.\n",
      "Item not in inventory. Please order something else.\n",
      "Item not in inventory. Please order something else.\n"
     ]
    }
   ],
   "source": [
    "customer_orders = get_customer_orders()  # Call the function to get customer orders"
   ]
  },
  {
   "cell_type": "markdown",
   "id": "3eb1ddcd",
   "metadata": {},
   "source": [
    "4. Test your code by running the program and deliberately entering invalid quantities and product names. Make sure the error handling mechanism works as expected."
   ]
  },
  {
   "cell_type": "code",
   "execution_count": 18,
   "id": "5d5b2119",
   "metadata": {},
   "outputs": [
    {
     "name": "stdout",
     "output_type": "stream",
     "text": [
      "Invalid input\n",
      "Invalid input\n",
      "Invalid input\n",
      "\n",
      "Item price can't be negative or 0\n",
      "Can't order negative items\n",
      "\n",
      "Invalid input. Enter a number.\n",
      "Item not in inventory. Please order something else.\n"
     ]
    }
   ],
   "source": [
    "customer_orders = {'hat', 'mug'}\n",
    "inventory = {'t-shirt': 2, 'mug': 10, 'hat': 22, 'book': 2, 'keychain': 3}\n",
    "\n",
    "# Create a function that retuns the total price of the order based on price given\n",
    "def order_price(customer_orders):\n",
    "    total_order_price = 0\n",
    "\n",
    "    for i in customer_orders:\n",
    "         valid_input = False\n",
    "         while valid_input == False:\n",
    "\n",
    "              try:\n",
    "                price_question = int(input(f\"What is the price of {i}? \"))\n",
    "                if price_question > 0:\n",
    "                    total_order_price += price_question\n",
    "                    valid_input = True\n",
    "                elif price_question <= 0:\n",
    "                    print(\"\\nItem price can't be negative or 0\")\n",
    "              except ValueError:\n",
    "                    print(\"Invalid input\")\n",
    "            \n",
    "\n",
    "    return total_order_price\n",
    "\n",
    "\n",
    "total_order_price = order_price(customer_orders)\n",
    "total_order_price\n",
    "\n",
    "\n",
    "def get_customer_orders():\n",
    "    customer_orders = set()  # Create an empty set for the customer orders\n",
    "    valid_n_items_order = False\n",
    "    valid_customer_orders = False\n",
    "\n",
    "\n",
    "    # Ask customer how many times they want to order\n",
    "    while valid_n_items_order == False:\n",
    "        try:\n",
    "            n_items_order = int(input(\"How many items do you want to order? \"))\n",
    "            if n_items_order > 0:\n",
    "                valid_n_items_order = True\n",
    "            elif n_items_order < 0:\n",
    "                print(\"Can't order negative items\")\n",
    "        except ValueError:\n",
    "            print(\"\\nInvalid input. Enter a number.\")\n",
    "\n",
    "    # Get item ordered\n",
    "    for i in range(n_items_order):\n",
    "        while True:\n",
    "            try:\n",
    "                item = input(f\"What item do you want for order {i+1}? Items in inventory are: {[item for item in inventory.keys()]}\")\n",
    "                if item in inventory.keys():\n",
    "                    customer_orders.add(item)\n",
    "                    break  # Item is valid, move to the next item\n",
    "                else:\n",
    "                    print(\"Item not in inventory. Please order something else.\")\n",
    "            except ValueError:\n",
    "                print(\"Invalid input. Please try again.\")\n",
    "\n",
    "    return customer_orders\n",
    "\n",
    "\n",
    "customer_orders = get_customer_orders()  # Call the function to get customer orders\n"
   ]
  }
 ],
 "metadata": {
  "kernelspec": {
   "display_name": "base",
   "language": "python",
   "name": "python3"
  },
  "language_info": {
   "codemirror_mode": {
    "name": "ipython",
    "version": 3
   },
   "file_extension": ".py",
   "mimetype": "text/x-python",
   "name": "python",
   "nbconvert_exporter": "python",
   "pygments_lexer": "ipython3",
   "version": "3.12.4"
  }
 },
 "nbformat": 4,
 "nbformat_minor": 5
}
